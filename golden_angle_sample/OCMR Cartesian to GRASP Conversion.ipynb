{
 "cells": [
  {
   "cell_type": "markdown",
   "id": "e4a5baca",
   "metadata": {},
   "source": [
    "<div class=\"alert alert-block alert-info\">\n",
    "    <b>Tip:</b> Use <b>%matplotlib widget</b> or <b>%matplotlib notebook</b> for interactive plots when notebook is running locally on your computer\n",
    "</div>"
   ]
  },
  {
   "cell_type": "markdown",
   "id": "feda2943",
   "metadata": {},
   "source": [
    "[![Open In Colab](https://colab.research.google.com/assets/colab-badge.svg)](https://colab.research.google.com/github/CARDIAL-nyu/cmr-playground/blob/main/golden_angle_sample/OCMR%20Cartesian%20to%20GRASP%20Conversion.ipynb)\n"
   ]
  },
  {
   "cell_type": "code",
   "execution_count": 1,
   "id": "4d040041",
   "metadata": {
    "ExecuteTime": {
     "end_time": "2021-11-16T18:07:24.803898Z",
     "start_time": "2021-11-16T18:07:24.564700Z"
    }
   },
   "outputs": [],
   "source": [
    "import sys\n",
    "# interactive matplotlib doesn't work on google colab, so fall back to inline\n",
    "if 'miniconda' not in sys.executable:\n",
    "    %matplotlib inline\n",
    "    !{sys.executable} -m pip install --force https://github.com/chengs/tqdm/archive/colab.zip\n",
    "    !{sys.executable} -m pip install sigpy h5py tqdm\n",
    "    ! git clone https://github.com/CARDIAL-nyu/cmr-playground\n",
    "    %cd cmr-playground/golden_angle_sample\n",
    "else:\n",
    "    %matplotlib notebook"
   ]
  },
  {
   "cell_type": "code",
   "execution_count": 2,
   "id": "ed03c439",
   "metadata": {
    "ExecuteTime": {
     "end_time": "2021-11-16T18:07:36.174147Z",
     "start_time": "2021-11-16T18:07:32.078965Z"
    }
   },
   "outputs": [],
   "source": [
    "import matplotlib.pyplot as plt\n",
    "import matplotlib as mpl\n",
    "import numpy as np\n",
    "import scipy as sp\n",
    "import scipy.signal\n",
    "import scipy.io\n",
    "import seaborn as sns\n",
    "import sigpy\n",
    "import sigpy.plot\n",
    "import sigpy.mri\n",
    "import h5py\n",
    "if 'miniconda' not in sys.executable:\n",
    "    from tqdm import trange, tqdm\n",
    "else:\n",
    "    from tqdm.notebook import trange, tqdm\n",
    "\n",
    "plt.style.use('fivethirtyeight')\n",
    "five_thirty_eight = [\n",
    "\"#30a2da\",\n",
    "\"#fc4f30\",\n",
    "\"#e5ae38\",\n",
    "\"#6d904f\",\n",
    "\"#8b8b8b\",\n",
    "]\n",
    "sns.set_palette(five_thirty_eight, color_codes=True)\n",
    "sns.set_color_codes()\n",
    "\n",
    "mpl.rcParams['axes.grid'] = False"
   ]
  },
  {
   "cell_type": "code",
   "execution_count": null,
   "id": "dc7d8619",
   "metadata": {},
   "outputs": [],
   "source": []
  }
 ],
 "metadata": {
  "kernelspec": {
   "display_name": "Python3.7 (xdgrasp_torch)",
   "language": "python",
   "name": "xdgrasp_torch"
  },
  "language_info": {
   "codemirror_mode": {
    "name": "ipython",
    "version": 3
   },
   "file_extension": ".py",
   "mimetype": "text/x-python",
   "name": "python",
   "nbconvert_exporter": "python",
   "pygments_lexer": "ipython3",
   "version": "3.7.10"
  },
  "varInspector": {
   "cols": {
    "lenName": 16,
    "lenType": 16,
    "lenVar": 40
   },
   "kernels_config": {
    "python": {
     "delete_cmd_postfix": "",
     "delete_cmd_prefix": "del ",
     "library": "var_list.py",
     "varRefreshCmd": "print(var_dic_list())"
    },
    "r": {
     "delete_cmd_postfix": ") ",
     "delete_cmd_prefix": "rm(",
     "library": "var_list.r",
     "varRefreshCmd": "cat(var_dic_list()) "
    }
   },
   "types_to_exclude": [
    "module",
    "function",
    "builtin_function_or_method",
    "instance",
    "_Feature"
   ],
   "window_display": false
  }
 },
 "nbformat": 4,
 "nbformat_minor": 5
}
